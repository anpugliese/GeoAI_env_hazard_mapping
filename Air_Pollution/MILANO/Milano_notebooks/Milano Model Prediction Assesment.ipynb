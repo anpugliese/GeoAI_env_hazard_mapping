{
 "cells": [
  {
   "cell_type": "code",
   "execution_count": null,
   "id": "bc44ada4",
   "metadata": {},
   "outputs": [],
   "source": [
    "import sys\n",
    "sys.path.append(\"../../..\")\n",
    "\n",
    "from datetime import date\n",
    "import pandas as pd\n",
    "import plotly.graph_objects as go\n",
    "import numpy as np\n",
    "\n",
    "from modules import processing_module as processing\n",
    "from modules import interpolation_module as interp\n",
    "from modules import ai_module as ai"
   ]
  },
  {
   "cell_type": "code",
   "execution_count": null,
   "id": "44b1db05",
   "metadata": {},
   "outputs": [],
   "source": [
    "milano_shapefile = '../data/milano_final_shapefile/milano_metro.shp'\n",
    "milano_epsg = 32632\n",
    "grid = interp.create_grid_from_shapefile(milano_shapefile, xdelta=1000, ydelta=1000, shapefile_epsg=milano_epsg)\n",
    "pollutants = ['pm10', 'pm25', 'so2', 'o3']\n",
    "models = ['rf', 'lstm']\n",
    "train_modes = [\n",
    "    'rand_balance',\n",
    "    'NOrand_balance',\n",
    "    'rand_NObalance',\n",
    "    'NOrand_NObalance'\n",
    "]"
   ]
  },
  {
   "cell_type": "markdown",
   "id": "bd79d359",
   "metadata": {},
   "source": [
    "## Checking results for January with pollutant PM10 using gridded samples\n",
    "\n",
    "The following sections corresponds to the predictions of the pollutant \"PM10\" in the month of January for the models that were trained. All training and testing datasets are partitioned with 80% training and 20% testing. \n",
    "\n",
    "The models are:\n",
    "- Random Forest (rf)\n",
    "- Long-short term memory (lstm)\n",
    "- Support Vector Machine (svm)\n",
    "\n",
    "For each of the models, it shows 4 grids, one for each of the training and testing samples:\n",
    "- Random sampling with balanced classes.\n",
    "- Sequential sampling with balanced classes.\n",
    "- Random sampling with no balanced classes.\n",
    "- Sequential sampling with no balanced classes.\n",
    "\n",
    "\n",
    "Random sampling corresponds to a random sort of the entire dataset before partitioning.\n",
    "Balanced classes corresponds to the partition being made on the filter of the classes or on the entire data. The training/testing is balanced when the total amount of each class corresponds to the partition made. This means that, for a balanced dataset, 80% of the total amount of records with class 1 will be present in the training data while 20% will be present in the testing. For a non-balanced dataset, this is not enforced.\n",
    "\n",
    "\n",
    "The first set of grids correspond to the probability of belonging to class 1 (pollutant exceeded) in the meteo/pollutant stations of the pollutant. \n",
    "The second set of grids correspond also to the prediction on the stations, but classified into a specific class if the threshold exceeds 50%. Both first and second set are interpolated using NN to fill the grid of the entire area of interest.\n",
    "The third and fourth set of grids correspond to the same, but predicted on each grid element separately.\n",
    "\n",
    "\n",
    "Below are reported the accuracies of each of the models, sorted by pollutant and accuracy."
   ]
  },
  {
   "cell_type": "code",
   "execution_count": null,
   "id": "914c1cb6",
   "metadata": {},
   "outputs": [],
   "source": [
    "importer = processing.HarmoniaProcessor()\n",
    "scores_path = f'../harmonia_processor/model_scores.csv'\n",
    "model_scores =  importer.import_df(scores_path, date_format=None)\n",
    "model_scores = model_scores.reset_index(drop=True).sort_values(by=[\"pollutant\", \"score\"], ascending=False)\n",
    "model_scores"
   ]
  },
  {
   "cell_type": "code",
   "execution_count": null,
   "id": "09c2de0b",
   "metadata": {},
   "outputs": [],
   "source": [
    "#plot for model accuracies\n",
    "for model in models:\n",
    "    plot_dfs = []\n",
    "    plot_names = []\n",
    "    sort_by = 'train_mode'\n",
    "    print(f\"--------------------------------------------------\")\n",
    "    print(f\"scores for model {model}\")\n",
    "    for pollutant in pollutants:\n",
    "        temp_plot_df = model_scores.sort_values(by='score', ascending=False).loc[\n",
    "            (model_scores['pollutant'] == pollutant) & (model_scores['type'] == model)\n",
    "        ].reset_index(drop=True).sort_values(by=sort_by)\n",
    "        plot_dfs.append(temp_plot_df.copy())\n",
    "        plot_names.append(pollutant)\n",
    "\n",
    "    importer.show_plot(\n",
    "        plot_dfs,\n",
    "        ['train_mode', 'train_mode', 'train_mode', 'train_mode'],\n",
    "        ['score', 'score', 'score', 'score'],\n",
    "        plot_names\n",
    "    )"
   ]
  },
  {
   "cell_type": "markdown",
   "id": "fe888f87",
   "metadata": {},
   "source": [
    "It is important to point out that for the pollutant Ozone (o3) and SO2 the accuracies are particularly high due to the low variability of the dataset. This is due to the low daily exceedance of the pollutants across the entire time frame. "
   ]
  },
  {
   "cell_type": "code",
   "execution_count": null,
   "id": "f9399999",
   "metadata": {
    "scrolled": true
   },
   "outputs": [],
   "source": [
    "importer = processing.HarmoniaProcessor()\n",
    "m = 1\n",
    "pollutant = 'pm10'\n",
    "\n",
    "#check for the same model with different training samples\n",
    "prediction_base_path = f'../harmonia_processor/{pollutant}/predictions'\n",
    "for model in models:\n",
    "    print(f'------------------------------------------------------------------------')\n",
    "    print(f'Showing for model {model}')\n",
    "    for train_mode in train_modes:\n",
    "        print(f'Showing for training and testing samples {train_mode}')\n",
    "        prediction_path = f'{prediction_base_path}/{model}_prediction_month_{m}_stations_{train_mode}.csv'\n",
    "        prediction_m =  importer.import_df(prediction_path, date_format=None)\n",
    "        #prediction_m['exc'] = np.where(prediction_m['exc']>=50, 1, 0)\n",
    "\n",
    "        interpolated_to_grid,b = interp.interpolate(\n",
    "            'exc', \n",
    "            'NN', \n",
    "            milano_shapefile,\n",
    "            prediction_m.copy(), \n",
    "            visual_output=True,\n",
    "            epsg_utm=milano_epsg,\n",
    "            #plot_min=0,\n",
    "            #plot_max=1\n",
    "        )\n",
    "    "
   ]
  },
  {
   "cell_type": "code",
   "execution_count": null,
   "id": "d314aa6a",
   "metadata": {
    "scrolled": true
   },
   "outputs": [],
   "source": [
    "importer = processing.HarmoniaProcessor()\n",
    "m = 1\n",
    "pollutant = 'pm10'\n",
    "\n",
    "#check for the same model with different training samples\n",
    "prediction_base_path = f'../harmonia_processor/{pollutant}/predictions'\n",
    "for model in models:\n",
    "    print(f'Showing for {model}')\n",
    "    for train_mode in train_modes:\n",
    "        print(f'Showing for training and testing samples {train_mode}')\n",
    "        prediction_path = f'{prediction_base_path}/{model}_prediction_month_{m}_stations_{train_mode}.csv'\n",
    "        prediction_m =  importer.import_df(prediction_path, date_format=None)\n",
    "        prediction_m['exc'] = np.where(prediction_m['exc']>=50, 1, 0)\n",
    "\n",
    "        interpolated_to_grid,b = interp.interpolate(\n",
    "            'exc', \n",
    "            'NN', \n",
    "            milano_shapefile,\n",
    "            prediction_m.copy(), \n",
    "            visual_output=True,\n",
    "            epsg_utm=milano_epsg,\n",
    "            plot_min=0,\n",
    "            plot_max=1\n",
    "        )\n",
    "    "
   ]
  },
  {
   "cell_type": "code",
   "execution_count": null,
   "id": "15d55714",
   "metadata": {
    "scrolled": true
   },
   "outputs": [],
   "source": [
    "importer = processing.HarmoniaProcessor()\n",
    "m = 1\n",
    "pollutant = 'pm10'\n",
    "\n",
    "#check for the same model with different training samples\n",
    "prediction_base_path = f'../harmonia_processor/{pollutant}/predictions'\n",
    "for model in models:\n",
    "    print(f'Showing for {model}')\n",
    "    for train_mode in train_modes:\n",
    "        print(f'Showing for training and testing samples {train_mode}')\n",
    "        prediction_path = f'{prediction_base_path}/{model}_prediction_month_{m}_grid_{train_mode}.csv'\n",
    "        prediction_m =  importer.import_df(prediction_path, date_format=None)\n",
    "        #prediction_m['exc'] = np.where(prediction_m['exc']>=50, 1, 0)\n",
    "\n",
    "        interpolated_to_grid,b = interp.interpolate(\n",
    "            'exc', \n",
    "            'NN', \n",
    "            milano_shapefile,\n",
    "            prediction_m.copy(), \n",
    "            visual_output=True,\n",
    "            epsg_utm=milano_epsg,\n",
    "            #plot_min=0,\n",
    "            #plot_max=1\n",
    "        )\n",
    "    "
   ]
  },
  {
   "cell_type": "code",
   "execution_count": null,
   "id": "55f846cc",
   "metadata": {
    "scrolled": true
   },
   "outputs": [],
   "source": [
    "importer = processing.HarmoniaProcessor()\n",
    "m = 1\n",
    "pollutant = 'pm10'\n",
    "\n",
    "#check for the same model with different training samples\n",
    "prediction_base_path = f'../harmonia_processor/{pollutant}/predictions'\n",
    "for model in models:\n",
    "    print(f'Showing for {model}')\n",
    "    for train_mode in train_modes:\n",
    "        print(f'Showing for training and testing samples {train_mode}')\n",
    "        prediction_path = f'{prediction_base_path}/{model}_prediction_month_{m}_grid_{train_mode}.csv'\n",
    "        prediction_m =  importer.import_df(prediction_path, date_format=None)\n",
    "        prediction_m['exc'] = np.where(prediction_m['exc']>=50, 1, 0)\n",
    "\n",
    "        interpolated_to_grid,b = interp.interpolate(\n",
    "            'exc', \n",
    "            'NN', \n",
    "            milano_shapefile,\n",
    "            prediction_m.copy(), \n",
    "            visual_output=True,\n",
    "            epsg_utm=milano_epsg,\n",
    "            plot_min=0,\n",
    "            plot_max=1\n",
    "        )\n",
    "    "
   ]
  },
  {
   "cell_type": "code",
   "execution_count": null,
   "id": "69dfdf21",
   "metadata": {},
   "outputs": [],
   "source": []
  }
 ],
 "metadata": {
  "kernelspec": {
   "display_name": "Python (odc_env)",
   "language": "python",
   "name": "odc_env"
  },
  "language_info": {
   "codemirror_mode": {
    "name": "ipython",
    "version": 3
   },
   "file_extension": ".py",
   "mimetype": "text/x-python",
   "name": "python",
   "nbconvert_exporter": "python",
   "pygments_lexer": "ipython3",
   "version": "3.8.13"
  }
 },
 "nbformat": 4,
 "nbformat_minor": 5
}
