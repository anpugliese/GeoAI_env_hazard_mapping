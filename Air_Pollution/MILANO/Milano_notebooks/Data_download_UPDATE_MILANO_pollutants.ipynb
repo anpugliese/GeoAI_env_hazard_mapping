{
 "cells": [
  {
   "cell_type": "markdown",
   "id": "2cf7ee16",
   "metadata": {},
   "source": [
    "# Data_download_MILANO_hourly_pollutants"
   ]
  },
  {
   "cell_type": "code",
   "execution_count": 3,
   "id": "7a96e99a",
   "metadata": {},
   "outputs": [],
   "source": [
    "#----------------Utils--------------------------\n",
    "import pandas as pd\n",
    "import numpy as np\n",
    "import requests\n",
    "pd.set_option('display.max_columns', None)"
   ]
  },
  {
   "cell_type": "code",
   "execution_count": 4,
   "id": "e257ddf7",
   "metadata": {},
   "outputs": [],
   "source": [
    "#Remove Outliers function\n",
    "#This remove a point if it exceeds +-3 std deviations in a window of \"window\" observations \n",
    "# at column \"value_column\"\n",
    "def filter_outliers_by_sensor(input_df, window, sensor_list, value_column='value'):\n",
    "    filtered_df = pd.DataFrame()\n",
    "    for sensor in sensor_list:\n",
    "        df = input_df.copy()\n",
    "        df = df.loc[df['sensor_id'] == sensor]\n",
    "        #iterate all the df\n",
    "        df['mean']= df[value_column].rolling(window, center=True, step=1, min_periods=1).mean()\n",
    "        df['std'] = df[value_column].rolling(window, center=True, step=1, min_periods=1).std()\n",
    "        df\n",
    "        #filter setup\n",
    "        df = df[(df[value_column] <= df['mean']+3*df['std']) & (df[value_column] >= df['mean']-3*df['std'])]\n",
    "        \n",
    "        filtered_df = pd.concat([filtered_df, df])\n",
    "    \n",
    "    filtered_df = filtered_df.drop([\"mean\", \"std\"], axis=1)\n",
    "    return filtered_df"
   ]
  },
  {
   "cell_type": "code",
   "execution_count": 74,
   "id": "28dc8623",
   "metadata": {},
   "outputs": [],
   "source": [
    "#global variables\n",
    "#polution_variables = ['pm10', 'pm25', 'o3', 'no2', 'so2']\n",
    "polution_variables = ['o3']\n",
    "\n",
    "pollution_datasets = {\n",
    "    \"pm10\": {\"value_column\": \"value\", \"csv_name\": \"pm10\", \"sensor_type\": \"PM10%20(SM2005)\"},\n",
    "    \"pm25\": {\"value_column\": \"value\", \"csv_name\": \"pm25\", \"sensor_type\": \"Particelle%20sospese%20PM2.5\"},\n",
    "    \"o3\": {\"value_column\": \"value\", \"csv_name\": \"o3\", \"sensor_type\": \"Ozono\"},\n",
    "    \"no2\": {\"value_column\": \"value\", \"csv_name\": \"no2\", \"sensor_type\": \"Biossido%20di%20Azoto\"},\n",
    "    \"so2\": {\"value_column\": \"value\", \"csv_name\": \"so2\", \"sensor_type\": \"Biossido%20di%20Zolfo\"}\n",
    "}\n",
    "\n",
    "date_format = \"%Y-%m-%dT%H:%M:%S\""
   ]
  },
  {
   "cell_type": "code",
   "execution_count": 6,
   "id": "b0cf913d",
   "metadata": {},
   "outputs": [
    {
     "data": {
      "text/plain": [
       "'\\nimport json\\nURL = \\'http://localhost:8000/api/processes/aggregation-air-quality/execution\\'\\ndata = {\\'inputs\\': {\\n    \"aggregation-time-unit\": \"year\",\\n    \"aggregation-function\": \"AVG\",\\n    \"datetime\": \"2010-01-01/2023-12-31\",\\n    \"pollutant-list\": [\"PM10 (SM2005)\"],\\n    \"sensor-list\": [6905, 6907, 6908, 6909, 6912, 6956, 9963, 10273, 10320, 10352, 10354, 20035, 20428, 20429, 20430],\\n    #\"bbox\": [8.7059077408448857, 45.1614273647876274, 9.5514392287225149, 45.6421695649354575],\\n    \"skip-geometry\": True\\n}}\\n# Convert data to JSON format\\njson_data = json.dumps(data)\\n\\n# Set the Content-Type header to application/json\\nheaders = {\\'Content-Type\\': \\'application/json\\'}\\nresponse = requests.post(URL, data=json_data, headers=headers)\\n'"
      ]
     },
     "execution_count": 6,
     "metadata": {},
     "output_type": "execute_result"
    }
   ],
   "source": [
    "'''\n",
    "import json\n",
    "URL = 'http://localhost:8000/api/processes/aggregation-air-quality/execution'\n",
    "data = {'inputs': {\n",
    "    \"aggregation-time-unit\": \"year\",\n",
    "    \"aggregation-function\": \"AVG\",\n",
    "    \"datetime\": \"2010-01-01/2023-12-31\",\n",
    "    \"pollutant-list\": [\"PM10 (SM2005)\"],\n",
    "    \"sensor-list\": [6905, 6907, 6908, 6909, 6912, 6956, 9963, 10273, 10320, 10352, 10354, 20035, 20428, 20429, 20430],\n",
    "    #\"bbox\": [8.7059077408448857, 45.1614273647876274, 9.5514392287225149, 45.6421695649354575],\n",
    "    \"skip-geometry\": True\n",
    "}}\n",
    "# Convert data to JSON format\n",
    "json_data = json.dumps(data)\n",
    "\n",
    "# Set the Content-Type header to application/json\n",
    "headers = {'Content-Type': 'application/json'}\n",
    "response = requests.post(URL, data=json_data, headers=headers)\n",
    "'''"
   ]
  },
  {
   "cell_type": "code",
   "execution_count": 75,
   "id": "9af1f959",
   "metadata": {},
   "outputs": [
    {
     "name": "stdout",
     "output_type": "stream",
     "text": [
      "http://localhost:8000/api/collections/airqualitysensor/items?sensor_type=Ozono&province=MI\n",
      "[{'sensor_type': 'Ozono', 'measurement_unit': 'µg/m³', 'station_id': 551, 'station_name': 'Arconate v. De Gasperi', 'altitude': 182, 'province': 'MI', 'comune': 'Arconate', 'is_historical': False, 'date_start': '1999-01-20', 'date_stop': None, 'utm_north': '5043898.0000', 'utm_east': '488082.0000', 'latitude': '45.5485', 'longitude': '8.8473', 'id': 5707, 'sensor_id': 5707}, {'sensor_type': 'Ozono', 'measurement_unit': 'µg/m³', 'station_id': 536, 'station_name': 'Arese v. Matteotti', 'altitude': 157, 'province': 'MI', 'comune': 'Arese', 'is_historical': True, 'date_start': '1995-10-03', 'date_stop': '2018-01-01', 'utm_north': '5043325.0000', 'utm_east': '506302.0000', 'latitude': '45.5434', 'longitude': '9.0807', 'id': 5708, 'sensor_id': 5708}, {'sensor_type': 'Ozono', 'measurement_unit': 'µg/m³', 'station_id': 544, 'station_name': 'Cormano v. Edison', 'altitude': 153, 'province': 'MI', 'comune': 'Cormano', 'is_historical': False, 'date_start': '1994-11-03', 'date_stop': None, 'utm_north': '5044180.0000', 'utm_east': '512693.0000', 'latitude': '45.5510', 'longitude': '9.1626', 'id': 5710, 'sensor_id': 5710}, {'sensor_type': 'Ozono', 'measurement_unit': 'µg/m³', 'station_id': 525, 'station_name': 'Corsico v.le Italia', 'altitude': 119, 'province': 'MI', 'comune': 'Corsico', 'is_historical': True, 'date_start': '1990-01-18', 'date_stop': '2018-01-01', 'utm_north': '5031403.0000', 'utm_east': '507619.0000', 'latitude': '45.4361', 'longitude': '9.0974', 'id': 5711, 'sensor_id': 5711}, {'sensor_type': 'Ozono', 'measurement_unit': 'µg/m³', 'station_id': 510, 'station_name': 'Inzago v.le Gramsci', 'altitude': 138, 'province': 'MI', 'comune': 'Inzago', 'is_historical': True, 'date_start': '2001-02-24', 'date_stop': '2018-01-01', 'utm_north': '5043030.0000', 'utm_east': '538012.0000', 'latitude': '45.5398', 'longitude': '9.4869', 'id': 5712, 'sensor_id': 5712}, {'sensor_type': 'Ozono', 'measurement_unit': 'µg/m³', 'station_id': 502, 'station_name': 'Milano v.Juvara', 'altitude': 122, 'province': 'MI', 'comune': 'Milano', 'is_historical': True, 'date_start': '1981-01-12', 'date_stop': '2007-07-20', 'utm_north': '5035546.0000', 'utm_east': '517377.0000', 'latitude': '45.4732', 'longitude': '9.2223', 'id': 5713, 'sensor_id': 5713}, {'sensor_type': 'Ozono', 'measurement_unit': 'µg/m³', 'station_id': 535, 'station_name': 'Lacchiarella v.Molise', 'altitude': 97, 'province': 'MI', 'comune': 'Lacchiarella', 'is_historical': True, 'date_start': '1998-09-17', 'date_stop': '2018-01-01', 'utm_north': '5019010.0000', 'utm_east': '510542.0000', 'latitude': '45.3245', 'longitude': '9.1345', 'id': 5714, 'sensor_id': 5714}, {'sensor_type': 'Ozono', 'measurement_unit': 'µg/m³', 'station_id': 505, 'station_name': 'Legnano v.Diaz', 'altitude': 199, 'province': 'MI', 'comune': 'Legnano', 'is_historical': True, 'date_start': '1990-01-11', 'date_stop': '2018-01-01', 'utm_north': '5049180.0000', 'utm_east': '493668.0000', 'latitude': '45.5961', 'longitude': '8.9188', 'id': 5715, 'sensor_id': 5715}, {'sensor_type': 'Ozono', 'measurement_unit': 'µg/m³', 'station_id': 531, 'station_name': 'Pioltello Limito', 'altitude': 114, 'province': 'MI', 'comune': 'Pioltello', 'is_historical': False, 'date_start': '1989-05-13', 'date_stop': None, 'utm_north': '5036730.0000', 'utm_east': '525583.0000', 'latitude': '45.4836', 'longitude': '9.3274', 'id': 5717, 'sensor_id': 5717}, {'sensor_type': 'Ozono', 'measurement_unit': 'µg/m³', 'station_id': 546, 'station_name': 'Magenta v. F. Turati', 'altitude': 137, 'province': 'MI', 'comune': 'Magenta', 'is_historical': False, 'date_start': '1995-07-29', 'date_stop': None, 'utm_north': '5034328.0000', 'utm_east': '490635.0000', 'latitude': '45.4624', 'longitude': '8.8802', 'id': 5718, 'sensor_id': 5718}, {'sensor_type': 'Ozono', 'measurement_unit': 'µg/m³', 'station_id': 545, 'station_name': 'Motta Visconti v. De Gasperi', 'altitude': 100, 'province': 'MI', 'comune': 'Motta Visconti', 'is_historical': False, 'date_start': '1998-03-17', 'date_stop': None, 'utm_north': '5014273.0000', 'utm_east': '499103.0000', 'latitude': '45.2820', 'longitude': '8.9886', 'id': 5721, 'sensor_id': 5721}, {'sensor_type': 'Ozono', 'measurement_unit': 'µg/m³', 'station_id': 547, 'station_name': 'Milano Parco Lambro', 'altitude': 123, 'province': 'MI', 'comune': 'Milano', 'is_historical': True, 'date_start': '1995-05-03', 'date_stop': '2018-01-01', 'utm_north': '5038480.0000', 'utm_east': '519323.0000', 'latitude': '45.4996', 'longitude': '9.2473', 'id': 5722, 'sensor_id': 5722}, {'sensor_type': 'Ozono', 'measurement_unit': 'µg/m³', 'station_id': 513, 'station_name': \"Trezzo sull'Adda v.Nenni\", 'altitude': 199, 'province': 'MI', 'comune': \"Trezzo sull'Adda\", 'is_historical': True, 'date_start': '2001-02-22', 'date_stop': '2017-01-01', 'utm_north': '5051253.0000', 'utm_east': '539618.0000', 'latitude': '45.6137', 'longitude': '9.5081', 'id': 5724, 'sensor_id': 5724}, {'sensor_type': 'Ozono', 'measurement_unit': 'µg/m³', 'station_id': 528, 'station_name': 'Milano Verziere', 'altitude': 116, 'province': 'MI', 'comune': 'Milano', 'is_historical': False, 'date_start': '1988-09-20', 'date_stop': None, 'utm_north': '5034443.0000', 'utm_east': '515270.0000', 'latitude': '45.4633', 'longitude': '9.1953', 'id': 5725, 'sensor_id': 5725}, {'sensor_type': 'Ozono', 'measurement_unit': 'µg/m³', 'station_id': 508, 'station_name': \"Cassano d'Adda v.di Vona\", 'altitude': 133, 'province': 'MI', 'comune': \"Cassano d'Adda\", 'is_historical': True, 'date_start': '2005-12-01', 'date_stop': '2018-01-01', 'utm_north': '5040847.0000', 'utm_east': '540004.0000', 'latitude': '45.5200', 'longitude': '9.5122', 'id': 9900, 'sensor_id': 9900}, {'sensor_type': 'Ozono', 'measurement_unit': 'µg/m³', 'station_id': 705, 'station_name': 'Milano Pascal Città Studi', 'altitude': 122, 'province': 'MI', 'comune': 'Milano', 'is_historical': False, 'date_start': '2007-06-16', 'date_stop': None, 'utm_north': '5036190.0000', 'utm_east': '518405.0000', 'latitude': '45.4790', 'longitude': '9.2355', 'id': 10282, 'sensor_id': 10282}, {'sensor_type': 'Ozono', 'measurement_unit': 'µg/m³', 'station_id': 532, 'station_name': 'Cuggiono v. Languria', 'altitude': 156, 'province': 'MI', 'comune': 'Cuggiono', 'is_historical': True, 'date_start': '2007-02-28', 'date_stop': '2017-01-01', 'utm_north': '5038680.0000', 'utm_east': '484723.0000', 'latitude': '45.5015', 'longitude': '8.8045', 'id': 10350, 'sensor_id': 10350}]\n",
      "None\n",
      "2018-01-01\n",
      "None\n",
      "2018-01-01\n",
      "2018-01-01\n",
      "2007-07-20\n",
      "2018-01-01\n",
      "2018-01-01\n",
      "None\n",
      "None\n",
      "None\n",
      "2018-01-01\n",
      "2017-01-01\n",
      "None\n",
      "2018-01-01\n",
      "None\n",
      "2017-01-01\n"
     ]
    }
   ],
   "source": [
    "#DONT RUN IF NOT NECESSARY. IT TAKES TIME TO GET THE ENTIRE DATASET\n",
    "#MILANO\n",
    "import datetime\n",
    "headers = {'Accept': 'application/json'}\n",
    "milano_data_basepath = \"http://localhost:8000/api/collections/airqualitymeasurement/items?\"\n",
    "milano_sensor_base_path = \"http://localhost:8000/api/collections/airqualitysensor/items?\"\n",
    "\n",
    "for variable in polution_variables:\n",
    "    pollution_dataset = pollution_datasets[variable]\n",
    "    sensor_type = pollution_dataset['sensor_type']\n",
    "    sensor_path = f'{milano_sensor_base_path}sensor_type={sensor_type}&province=MI'\n",
    "    #sensor_path = f'{milano_sensor_base_path}nometiposensore=eq.{sensor_type}'\n",
    "    print(sensor_path)\n",
    "    \n",
    "    sensor_req = requests.get(sensor_path, headers=headers)\n",
    "    sensors_list = sensor_req.json()\n",
    "    print(sensors_list)\n",
    "    variable_stations = []\n",
    "    for sensor in sensors_list:\n",
    "        print(sensor['date_stop'])\n",
    "        if sensor['sensor_id'] in [20035, 20430, 20530, 5624, 5640, 5650, 20574]:\n",
    "            continue\n",
    "        if sensor['date_stop'] is None:\n",
    "            variable_stations.append(sensor['sensor_id'])\n",
    "        else:\n",
    "            date_stop = datetime.datetime.strptime(sensor['date_stop'], '%Y-%m-%d')\n",
    "            start_date = datetime.datetime(2010,1,1)\n",
    "            if date_stop > start_date:\n",
    "                variable_stations.append(sensor['sensor_id'])\n",
    "    #variable_stations = list(map(lambda a: a['sensor_id'], sensors_list))\n",
    "    variable_paths = []\n",
    "    for station in variable_stations:\n",
    "        variable_paths.append(f\"{milano_data_basepath}sensor_id={station}&datetime=2010-01-01/2023-12-31&f=geojson&limit=100000\")\n",
    "    \n",
    "    '''\n",
    "    variable_stations = list(map(lambda a: a['idsensore'], sensors_list))\n",
    "    variable_paths = []\n",
    "    for station in variable_stations:\n",
    "        variable_paths.append(f\"{milano_data_basepath}sensor_id={station}\")\n",
    "    '''\n",
    "    pollution_datasets[variable]['paths'] = variable_paths.copy()\n",
    "    pollution_datasets[variable]['sensors'] = variable_stations.copy()\n"
   ]
  },
  {
   "cell_type": "code",
   "execution_count": 76,
   "id": "d0560fe4",
   "metadata": {},
   "outputs": [
    {
     "name": "stdout",
     "output_type": "stream",
     "text": [
      "16\n"
     ]
    },
    {
     "data": {
      "text/plain": [
       "['http://localhost:8000/api/collections/airqualitymeasurement/items?sensor_id=5707&datetime=2010-01-01/2023-12-31&f=geojson&limit=100000',\n",
       " 'http://localhost:8000/api/collections/airqualitymeasurement/items?sensor_id=5708&datetime=2010-01-01/2023-12-31&f=geojson&limit=100000',\n",
       " 'http://localhost:8000/api/collections/airqualitymeasurement/items?sensor_id=5710&datetime=2010-01-01/2023-12-31&f=geojson&limit=100000',\n",
       " 'http://localhost:8000/api/collections/airqualitymeasurement/items?sensor_id=5711&datetime=2010-01-01/2023-12-31&f=geojson&limit=100000',\n",
       " 'http://localhost:8000/api/collections/airqualitymeasurement/items?sensor_id=5712&datetime=2010-01-01/2023-12-31&f=geojson&limit=100000',\n",
       " 'http://localhost:8000/api/collections/airqualitymeasurement/items?sensor_id=5714&datetime=2010-01-01/2023-12-31&f=geojson&limit=100000',\n",
       " 'http://localhost:8000/api/collections/airqualitymeasurement/items?sensor_id=5715&datetime=2010-01-01/2023-12-31&f=geojson&limit=100000',\n",
       " 'http://localhost:8000/api/collections/airqualitymeasurement/items?sensor_id=5717&datetime=2010-01-01/2023-12-31&f=geojson&limit=100000',\n",
       " 'http://localhost:8000/api/collections/airqualitymeasurement/items?sensor_id=5718&datetime=2010-01-01/2023-12-31&f=geojson&limit=100000',\n",
       " 'http://localhost:8000/api/collections/airqualitymeasurement/items?sensor_id=5721&datetime=2010-01-01/2023-12-31&f=geojson&limit=100000',\n",
       " 'http://localhost:8000/api/collections/airqualitymeasurement/items?sensor_id=5722&datetime=2010-01-01/2023-12-31&f=geojson&limit=100000',\n",
       " 'http://localhost:8000/api/collections/airqualitymeasurement/items?sensor_id=5724&datetime=2010-01-01/2023-12-31&f=geojson&limit=100000',\n",
       " 'http://localhost:8000/api/collections/airqualitymeasurement/items?sensor_id=5725&datetime=2010-01-01/2023-12-31&f=geojson&limit=100000',\n",
       " 'http://localhost:8000/api/collections/airqualitymeasurement/items?sensor_id=9900&datetime=2010-01-01/2023-12-31&f=geojson&limit=100000',\n",
       " 'http://localhost:8000/api/collections/airqualitymeasurement/items?sensor_id=10282&datetime=2010-01-01/2023-12-31&f=geojson&limit=100000',\n",
       " 'http://localhost:8000/api/collections/airqualitymeasurement/items?sensor_id=10350&datetime=2010-01-01/2023-12-31&f=geojson&limit=100000']"
      ]
     },
     "execution_count": 76,
     "metadata": {},
     "output_type": "execute_result"
    }
   ],
   "source": [
    "print(len(pollution_datasets['o3']['paths']))\n",
    "pollution_datasets['o3']['paths']"
   ]
  },
  {
   "cell_type": "code",
   "execution_count": 20,
   "id": "334a90e1",
   "metadata": {},
   "outputs": [
    {
     "data": {
      "text/plain": [
       "\"\\nurl = 'http://localhost:8000/api/collections/airqualitymeasurement/items?sensor_id=6908&datetime=2022-01-01/2023-12-31&f=geojson&limit=10'\\nreq = requests.get(url, headers=headers)\\nreq.json()['features']\\n\""
      ]
     },
     "execution_count": 20,
     "metadata": {},
     "output_type": "execute_result"
    }
   ],
   "source": [
    "'''\n",
    "url = 'http://localhost:8000/api/collections/airqualitymeasurement/items?sensor_id=6908&datetime=2022-01-01/2023-12-31&f=geojson&limit=10'\n",
    "req = requests.get(url, headers=headers)\n",
    "req.json()['features']\n",
    "'''"
   ]
  },
  {
   "cell_type": "code",
   "execution_count": 77,
   "id": "0097e947",
   "metadata": {},
   "outputs": [
    {
     "name": "stdout",
     "output_type": "stream",
     "text": [
      "fetching data for o3\n",
      "\n",
      "fetching http://localhost:8000/api/collections/airqualitymeasurement/items?sensor_id=5707&datetime=2010-01-01/2023-12-31&f=geojson&limit=100000\n",
      "fetching next page http://10.78.3.177:8000/api/collections/airqualitymeasurement/items?sensor_id=5707&datetime=2010-01-01/2023-12-31&f=geojson&limit=100000&offset=100000\n",
      "\n",
      "fetching http://localhost:8000/api/collections/airqualitymeasurement/items?sensor_id=5708&datetime=2010-01-01/2023-12-31&f=geojson&limit=100000\n",
      "\n",
      "fetching http://localhost:8000/api/collections/airqualitymeasurement/items?sensor_id=5710&datetime=2010-01-01/2023-12-31&f=geojson&limit=100000\n",
      "fetching next page http://10.78.3.177:8000/api/collections/airqualitymeasurement/items?sensor_id=5710&datetime=2010-01-01/2023-12-31&f=geojson&limit=100000&offset=100000\n",
      "\n",
      "fetching http://localhost:8000/api/collections/airqualitymeasurement/items?sensor_id=5711&datetime=2010-01-01/2023-12-31&f=geojson&limit=100000\n",
      "\n",
      "fetching http://localhost:8000/api/collections/airqualitymeasurement/items?sensor_id=5712&datetime=2010-01-01/2023-12-31&f=geojson&limit=100000\n",
      "\n",
      "fetching http://localhost:8000/api/collections/airqualitymeasurement/items?sensor_id=5714&datetime=2010-01-01/2023-12-31&f=geojson&limit=100000\n",
      "\n",
      "fetching http://localhost:8000/api/collections/airqualitymeasurement/items?sensor_id=5715&datetime=2010-01-01/2023-12-31&f=geojson&limit=100000\n",
      "\n",
      "fetching http://localhost:8000/api/collections/airqualitymeasurement/items?sensor_id=5717&datetime=2010-01-01/2023-12-31&f=geojson&limit=100000\n",
      "fetching next page http://10.78.3.177:8000/api/collections/airqualitymeasurement/items?sensor_id=5717&datetime=2010-01-01/2023-12-31&f=geojson&limit=100000&offset=100000\n",
      "\n",
      "fetching http://localhost:8000/api/collections/airqualitymeasurement/items?sensor_id=5718&datetime=2010-01-01/2023-12-31&f=geojson&limit=100000\n",
      "fetching next page http://10.78.3.177:8000/api/collections/airqualitymeasurement/items?sensor_id=5718&datetime=2010-01-01/2023-12-31&f=geojson&limit=100000&offset=100000\n",
      "\n",
      "fetching http://localhost:8000/api/collections/airqualitymeasurement/items?sensor_id=5721&datetime=2010-01-01/2023-12-31&f=geojson&limit=100000\n",
      "fetching next page http://10.78.3.177:8000/api/collections/airqualitymeasurement/items?sensor_id=5721&datetime=2010-01-01/2023-12-31&f=geojson&limit=100000&offset=100000\n",
      "\n",
      "fetching http://localhost:8000/api/collections/airqualitymeasurement/items?sensor_id=5722&datetime=2010-01-01/2023-12-31&f=geojson&limit=100000\n",
      "\n",
      "fetching http://localhost:8000/api/collections/airqualitymeasurement/items?sensor_id=5724&datetime=2010-01-01/2023-12-31&f=geojson&limit=100000\n",
      "\n",
      "fetching http://localhost:8000/api/collections/airqualitymeasurement/items?sensor_id=5725&datetime=2010-01-01/2023-12-31&f=geojson&limit=100000\n",
      "fetching next page http://10.78.3.177:8000/api/collections/airqualitymeasurement/items?sensor_id=5725&datetime=2010-01-01/2023-12-31&f=geojson&limit=100000&offset=100000\n",
      "\n",
      "fetching http://localhost:8000/api/collections/airqualitymeasurement/items?sensor_id=9900&datetime=2010-01-01/2023-12-31&f=geojson&limit=100000\n",
      "\n",
      "fetching http://localhost:8000/api/collections/airqualitymeasurement/items?sensor_id=10282&datetime=2010-01-01/2023-12-31&f=geojson&limit=100000\n",
      "fetching next page http://10.78.3.177:8000/api/collections/airqualitymeasurement/items?sensor_id=10282&datetime=2010-01-01/2023-12-31&f=geojson&limit=100000&offset=100000\n",
      "\n",
      "fetching http://localhost:8000/api/collections/airqualitymeasurement/items?sensor_id=10350&datetime=2010-01-01/2023-12-31&f=geojson&limit=100000\n",
      "END fetching data for o3\n",
      "Building dataframe for o3\n",
      "END Building dataframe for o3\n"
     ]
    }
   ],
   "source": [
    "#request data from the HARMONIA API\n",
    "headers = {'Accept': 'application/json'}\n",
    "'''\n",
    "{'type': 'Feature',\n",
    "  'id': 9025762,\n",
    "  'properties': {'date': '2022-01-01T00:00:00',\n",
    "   'value': '90.0000',\n",
    "   'sensor_id': 6908},\n",
    "  'geometry': {'type': 'Point',\n",
    "   'coordinates': [9.327360033215143, 45.48363035323249]}}\n",
    "'''\n",
    "\n",
    "for variable in polution_variables:\n",
    "    print(f\"fetching data for {variable}\")\n",
    "    variable_data = []\n",
    "\n",
    "    for variable_path in pollution_datasets[variable]['paths']:\n",
    "        print()\n",
    "        print(f'fetching {variable_path}')\n",
    "        r = requests.get(variable_path, headers=headers)\n",
    "        req_data = r.json()\n",
    "\n",
    "        next_page = True\n",
    "        \n",
    "        while next_page:\n",
    "            req_features = req_data[\"features\"]\n",
    "            if len(req_features) > 0:\n",
    "                req_list = list(map(lambda element: {\n",
    "                    #\"id\": element[\"id\"],\n",
    "                    \"date\": element[\"properties\"][\"date\"],\n",
    "                    \"sensor_id\": element[\"properties\"][\"sensor_id\"],\n",
    "                    \"value\": float(element[\"properties\"][\"value\"]),\n",
    "                    \"lat\": element[\"geometry\"][\"coordinates\"][1],\n",
    "                    \"lng\": element[\"geometry\"][\"coordinates\"][0]\n",
    "                }, req_features))\n",
    "                variable_data += req_list\n",
    "            \n",
    "            req_links = req_data[\"links\"]\n",
    "            next_page = False\n",
    "            for l in req_links:\n",
    "                if l[\"rel\"] == \"next\":\n",
    "                    next_link = l[\"href\"]\n",
    "                    print(f'fetching next page {next_link}')\n",
    "                    r = requests.get(next_link, headers=headers)\n",
    "                    req_data = r.json()\n",
    "                    next_page = True\n",
    "        \n",
    "    print(f\"END fetching data for {variable}\")\n",
    "    print(f\"Building dataframe for {variable}\")\n",
    "    df = pd.DataFrame(variable_data)\n",
    "    pollution_datasets[variable]['raw'] = df.copy()\n",
    "    #df = df.drop([\"utm_nord\", \"utm_est\"], axis=1)\n",
    "    df = df.replace(-9999.0, np.nan).dropna(subset=['value'])\n",
    "    df['date'] = pd.to_datetime(df['date'],  format=date_format)\n",
    "    df = df.sort_values(by='date')\n",
    "    window = 30 #days\n",
    "    df = filter_outliers_by_sensor(\n",
    "        df, \n",
    "        window,\n",
    "        pollution_datasets[variable]['sensors'],\n",
    "        'value'\n",
    "    )\n",
    "    df = df.sort_values(by='date')\n",
    "    pollution_datasets[variable]['df'] = df.copy()\n",
    "    print(f\"END Building dataframe for {variable}\")\n",
    "    \n",
    "    "
   ]
  },
  {
   "cell_type": "code",
   "execution_count": 78,
   "id": "cd023987",
   "metadata": {},
   "outputs": [
    {
     "data": {
      "text/html": [
       "<div>\n",
       "<style scoped>\n",
       "    .dataframe tbody tr th:only-of-type {\n",
       "        vertical-align: middle;\n",
       "    }\n",
       "\n",
       "    .dataframe tbody tr th {\n",
       "        vertical-align: top;\n",
       "    }\n",
       "\n",
       "    .dataframe thead th {\n",
       "        text-align: right;\n",
       "    }\n",
       "</style>\n",
       "<table border=\"1\" class=\"dataframe\">\n",
       "  <thead>\n",
       "    <tr style=\"text-align: right;\">\n",
       "      <th></th>\n",
       "      <th>date</th>\n",
       "      <th>sensor_id</th>\n",
       "      <th>value</th>\n",
       "      <th>lat</th>\n",
       "      <th>lng</th>\n",
       "    </tr>\n",
       "  </thead>\n",
       "  <tbody>\n",
       "    <tr>\n",
       "      <th>51074</th>\n",
       "      <td>2010-01-01 01:00:00</td>\n",
       "      <td>5707</td>\n",
       "      <td>2.9</td>\n",
       "      <td>45.548517</td>\n",
       "      <td>8.847322</td>\n",
       "    </tr>\n",
       "    <tr>\n",
       "      <th>360556</th>\n",
       "      <td>2010-01-01 01:00:00</td>\n",
       "      <td>5712</td>\n",
       "      <td>3.6</td>\n",
       "      <td>45.539769</td>\n",
       "      <td>9.486885</td>\n",
       "    </tr>\n",
       "    <tr>\n",
       "      <th>594054</th>\n",
       "      <td>2010-01-01 01:00:00</td>\n",
       "      <td>5717</td>\n",
       "      <td>4.9</td>\n",
       "      <td>45.483630</td>\n",
       "      <td>9.327360</td>\n",
       "    </tr>\n",
       "    <tr>\n",
       "      <th>1267986</th>\n",
       "      <td>2010-01-01 01:00:00</td>\n",
       "      <td>10282</td>\n",
       "      <td>5.7</td>\n",
       "      <td>45.478996</td>\n",
       "      <td>9.235491</td>\n",
       "    </tr>\n",
       "    <tr>\n",
       "      <th>420598</th>\n",
       "      <td>2010-01-01 01:00:00</td>\n",
       "      <td>5714</td>\n",
       "      <td>12.9</td>\n",
       "      <td>45.324517</td>\n",
       "      <td>9.134517</td>\n",
       "    </tr>\n",
       "    <tr>\n",
       "      <th>...</th>\n",
       "      <td>...</td>\n",
       "      <td>...</td>\n",
       "      <td>...</td>\n",
       "      <td>...</td>\n",
       "      <td>...</td>\n",
       "    </tr>\n",
       "    <tr>\n",
       "      <th>232276</th>\n",
       "      <td>2023-12-31 00:00:00</td>\n",
       "      <td>5710</td>\n",
       "      <td>2.6</td>\n",
       "      <td>45.551042</td>\n",
       "      <td>9.162614</td>\n",
       "    </tr>\n",
       "    <tr>\n",
       "      <th>1267985</th>\n",
       "      <td>2023-12-31 00:00:00</td>\n",
       "      <td>10282</td>\n",
       "      <td>3.9</td>\n",
       "      <td>45.478996</td>\n",
       "      <td>9.235491</td>\n",
       "    </tr>\n",
       "    <tr>\n",
       "      <th>1079331</th>\n",
       "      <td>2023-12-31 00:00:00</td>\n",
       "      <td>5725</td>\n",
       "      <td>1.7</td>\n",
       "      <td>45.463347</td>\n",
       "      <td>9.195325</td>\n",
       "    </tr>\n",
       "    <tr>\n",
       "      <th>51073</th>\n",
       "      <td>2023-12-31 00:00:00</td>\n",
       "      <td>5707</td>\n",
       "      <td>2.1</td>\n",
       "      <td>45.548517</td>\n",
       "      <td>8.847322</td>\n",
       "    </tr>\n",
       "    <tr>\n",
       "      <th>594053</th>\n",
       "      <td>2023-12-31 00:00:00</td>\n",
       "      <td>5717</td>\n",
       "      <td>2.0</td>\n",
       "      <td>45.483630</td>\n",
       "      <td>9.327360</td>\n",
       "    </tr>\n",
       "  </tbody>\n",
       "</table>\n",
       "<p>1344050 rows × 5 columns</p>\n",
       "</div>"
      ],
      "text/plain": [
       "                       date  sensor_id  value        lat       lng\n",
       "51074   2010-01-01 01:00:00       5707    2.9  45.548517  8.847322\n",
       "360556  2010-01-01 01:00:00       5712    3.6  45.539769  9.486885\n",
       "594054  2010-01-01 01:00:00       5717    4.9  45.483630  9.327360\n",
       "1267986 2010-01-01 01:00:00      10282    5.7  45.478996  9.235491\n",
       "420598  2010-01-01 01:00:00       5714   12.9  45.324517  9.134517\n",
       "...                     ...        ...    ...        ...       ...\n",
       "232276  2023-12-31 00:00:00       5710    2.6  45.551042  9.162614\n",
       "1267985 2023-12-31 00:00:00      10282    3.9  45.478996  9.235491\n",
       "1079331 2023-12-31 00:00:00       5725    1.7  45.463347  9.195325\n",
       "51073   2023-12-31 00:00:00       5707    2.1  45.548517  8.847322\n",
       "594053  2023-12-31 00:00:00       5717    2.0  45.483630  9.327360\n",
       "\n",
       "[1344050 rows x 5 columns]"
      ]
     },
     "execution_count": 78,
     "metadata": {},
     "output_type": "execute_result"
    }
   ],
   "source": [
    "#pollution_datasets['pm10']['raw'] = pollution_datasets['pm10']['raw'].drop(['id'])\n",
    "pollution_datasets['o3']['df']"
   ]
  },
  {
   "cell_type": "code",
   "execution_count": 79,
   "id": "e6e6c8a8",
   "metadata": {},
   "outputs": [
    {
     "data": {
      "text/plain": [
       "16"
      ]
     },
     "execution_count": 79,
     "metadata": {},
     "output_type": "execute_result"
    }
   ],
   "source": [
    "len(pollution_datasets['o3']['df']['sensor_id'].unique())"
   ]
  },
  {
   "cell_type": "code",
   "execution_count": 24,
   "id": "7c84296f",
   "metadata": {},
   "outputs": [],
   "source": [
    "def import_df(path, start_year, end_year, date_format=\"%Y-%m-%d\", date_column=\"date\"):\n",
    "    df = pd.read_csv(path, index_col = 0)\n",
    "    if date_format is not None and date_column is not None:\n",
    "        df[date_column] = pd.to_datetime(df[date_column],  format=date_format)\n",
    "    df = df.loc[\n",
    "        (df['date'].dt.year >= start_year) &\n",
    "        (df['date'].dt.year <= end_year)\n",
    "    ]\n",
    "    return df"
   ]
  },
  {
   "cell_type": "code",
   "execution_count": 80,
   "id": "fd32d753",
   "metadata": {},
   "outputs": [],
   "source": [
    "csv_base_path = '../data/mcm_pollutant_data'\n",
    "pollution_datasets['o3']['df'].to_csv(f'{csv_base_path}/o3_hourly.csv')"
   ]
  },
  {
   "cell_type": "code",
   "execution_count": 74,
   "id": "a9166bc2",
   "metadata": {},
   "outputs": [
    {
     "name": "stderr",
     "output_type": "stream",
     "text": [
      "/tmp/ipykernel_548018/2656353458.py:2: DtypeWarning: Columns (2) have mixed types. Specify dtype option on import or set low_memory=False.\n",
      "  df = pd.read_csv(path, index_col = 0)\n",
      "/tmp/ipykernel_548018/2656353458.py:2: DtypeWarning: Columns (2) have mixed types. Specify dtype option on import or set low_memory=False.\n",
      "  df = pd.read_csv(path, index_col = 0)\n",
      "/tmp/ipykernel_548018/2656353458.py:2: DtypeWarning: Columns (2) have mixed types. Specify dtype option on import or set low_memory=False.\n",
      "  df = pd.read_csv(path, index_col = 0)\n"
     ]
    }
   ],
   "source": [
    "csv_base_path = '../data/milano_pollutant_data'\n",
    "for pollutant in polution_variables:\n",
    "    if pollutant in ['pm10','pm25']:\n",
    "        legacy = import_df(f'{csv_base_path}/{pollutant}_daily.csv',1998,2021)\n",
    "        new = pd.concat([legacy, pollution_datasets[pollutant]['df']])\n",
    "        new.to_csv(f'{csv_base_path}/{pollutant}_daily.csv')\n",
    "    else:\n",
    "        legacy = import_df(f'{csv_base_path}/{pollutant}_hourly.csv',1998,2021)\n",
    "        new = pd.concat([legacy, pollution_datasets[pollutant]['df']])\n",
    "        new.to_csv(f'{csv_base_path}/{pollutant}_hourly.csv')"
   ]
  }
 ],
 "metadata": {
  "kernelspec": {
   "display_name": "odc_env",
   "language": "python",
   "name": "python3"
  },
  "language_info": {
   "codemirror_mode": {
    "name": "ipython",
    "version": 3
   },
   "file_extension": ".py",
   "mimetype": "text/x-python",
   "name": "python",
   "nbconvert_exporter": "python",
   "pygments_lexer": "ipython3",
   "version": "3.8.13"
  }
 },
 "nbformat": 4,
 "nbformat_minor": 5
}
