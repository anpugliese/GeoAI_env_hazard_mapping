{
 "cells": [
  {
   "cell_type": "code",
   "execution_count": 1,
   "id": "5bb5bf03",
   "metadata": {},
   "outputs": [],
   "source": [
    "import sys\n",
    "sys.path.append(\"../..\")\n",
    "\n",
    "#Defining libraries\n",
    "import os\n",
    "import pandas as pd\n",
    "import numpy as np\n",
    "from shapely.geometry import box\n",
    "\n",
    "import rasterio\n",
    "from rasterio.mask import mask"
   ]
  },
  {
   "cell_type": "code",
   "execution_count": 2,
   "id": "4541635a",
   "metadata": {},
   "outputs": [],
   "source": [
    "'''\n",
    "1-11-> Residential urban areas \n",
    "2-121,13->Industrial and abandoned urban areas\n",
    "3-122,123,124 Transportation infrastructure (streets, highways, airports, and ports)\n",
    "4-14->Urban green areas\n",
    "5-2->Agricultural areas\n",
    "6-3->Forest\n",
    "7-4/5->Hydro and humid bodies\n",
    "'''\n",
    "#Convert from copernicus code 2018 to an internal code\n",
    "URBAN = 1\n",
    "INDUSTRIAL = 2\n",
    "TRANSPORTATION = 3\n",
    "URBAN_VEGETATION = 4\n",
    "RURAL = 5\n",
    "FOREST = 6\n",
    "WATER = 7\n",
    "LC_NO_DATA = 9999\n",
    "NO_DATA = -9999\n",
    "\n",
    "    \n",
    "# Function to check if the file is a tiff and must be read.\n",
    "def check_wrong_files(f):\n",
    "    if f == 'clip': return True #avoid entering the \"clip\" folder\n",
    "    if 'ipynb' in f: return True #avoid entering the \"ipynb_checkpoint\" file\n",
    "    if 'tar' in f: return True #avoid entering \"tar\" files\n",
    "    if 'aux' in f: return True #avoid entering \"aux\" files\n",
    "    return False\n"
   ]
  },
  {
   "cell_type": "code",
   "execution_count": 129,
   "id": "d2b6c41d",
   "metadata": {
    "scrolled": true
   },
   "outputs": [],
   "source": [
    "# City parameters and global variables\n",
    "city_info = {\n",
    "    \"resolution\": 5,\n",
    "    \"epsg\": 32632,\n",
    "    \"capitalized\": \"Milan\"\n",
    "}\n",
    "\n",
    "city = 'MILANO'\n",
    "current_city_info = city_info\n",
    "city_epsg = current_city_info['epsg']\n",
    "data_folder = \"data\"\n",
    "landcover_base_path = f\"{data_folder}/landcover\"\n",
    "total_samples_per_raster = 10000\n",
    "\n",
    "\n",
    "landsat_raster_folder = \"/home/user/ODC_harmonia/Landsat/Milan/data\"\n",
    "\n",
    "landsat_raster_file_list = os.listdir(f\"{landsat_raster_folder}\")\n",
    "\n",
    "# create the \"clip\" if it does not exist\n",
    "os.makedirs(f\"{landsat_raster_folder}/clip\", exist_ok=True)\n",
    "\n",
    "lst_folder = f\"{landsat_raster_folder}/clip\"\n",
    "lst_file_list = os.listdir(f\"{lst_folder}\")"
   ]
  },
  {
   "cell_type": "code",
   "execution_count": 130,
   "id": "583260aa",
   "metadata": {},
   "outputs": [],
   "source": [
    "def match_landsat_to_landcover(landsat):\n",
    "    year = int(landsat[17:21])\n",
    "    if year in [2015,2016]:\n",
    "        return str(2015)\n",
    "    elif year in [2017,2018,2019]:\n",
    "        return str(2018)\n",
    "    elif year in [2020,2021,2022]:\n",
    "        return str(2021)"
   ]
  },
  {
   "cell_type": "code",
   "execution_count": 132,
   "id": "73f4900b",
   "metadata": {},
   "outputs": [],
   "source": [
    "import numpy as np\n",
    "import rasterio\n",
    "import random\n",
    "\n",
    "def extract_random_patches(raster_paths, patch_size=33, num_samples=1000):\n",
    "    \"\"\"\n",
    "    Extracts random patches from multiple rasters while handling different nodata values.\n",
    "    \n",
    "    Args:\n",
    "        raster_paths (list): List of file paths to raster images.\n",
    "        patch_size (int): Size of the square patches.\n",
    "        num_samples (int): Number of patches to extract.\n",
    "\n",
    "    Returns:\n",
    "        tuple: (X, y) where:\n",
    "            - X is an array of shape (num_samples, num_bands-1, patch_size, patch_size)\n",
    "            - y is an array of shape (num_samples, 1), containing center pixel values\n",
    "    \"\"\"\n",
    "    rasters = []\n",
    "    nodata_masks = []\n",
    "    \n",
    "    # Read all rasters\n",
    "    for path in raster_paths:\n",
    "        with rasterio.open(path) as src:\n",
    "            img = src.read(1).astype(np.float32)  # Convert to float32\n",
    "            nodata_value = src.nodata if src.nodata is not None else np.nan  # Handle missing nodata\n",
    "            img[img == nodata_value] = np.nan  # Mask nodata values\n",
    "            rasters.append(img)\n",
    "            nodata_masks.append(np.isnan(img))  # Store nodata mask\n",
    "    \n",
    "    # Stack rasters into a multi-band array (bands, height, width)\n",
    "    raster_stack = np.stack(rasters, axis=0)\n",
    "    \n",
    "    # UHI is the first band\n",
    "    uhi_band = raster_stack[0]  \n",
    "    feature_bands = raster_stack[1:]  # All other bands\n",
    "    \n",
    "    height, width = raster_stack.shape[1], raster_stack.shape[2]\n",
    "    X_patches, y_centers = [], []\n",
    "    \n",
    "    for _ in range(num_samples):\n",
    "        while True:\n",
    "            # Randomly select top-left corner of patch\n",
    "            i = random.randint(0, height - patch_size)\n",
    "            j = random.randint(0, width - patch_size)\n",
    "            \n",
    "            # Extract patches\n",
    "            X_patch = feature_bands[:, i:i+patch_size, j:j+patch_size]\n",
    "            \n",
    "            # Extract center pixel value from the UHI band\n",
    "            center_value = uhi_band[i + patch_size // 2, j + patch_size // 2]\n",
    "            \n",
    "            # Ensure patch has valid data (not fully masked)\n",
    "            if not np.isnan(X_patch).all() and not np.isnan(center_value):\n",
    "                X_patches.append(np.nan_to_num(X_patch))  # Replace NaNs with 0\n",
    "                y_centers.append(center_value)  # Center value as the label\n",
    "                break  # Accept this patch and continue\n",
    "    \n",
    "    return np.array(X_patches), np.array(y_centers).reshape(-1, 1)  # y_centers as a single value per patch\n"
   ]
  },
  {
   "cell_type": "code",
   "execution_count": 133,
   "id": "cdc7998a",
   "metadata": {},
   "outputs": [],
   "source": [
    "bands = [\n",
    "    '_uhi.tif',\n",
    "    '_LST.TIF',\n",
    "    '_NDVI.TIF',\n",
    "    '_SR_B2.TIF',\n",
    "    '_SR_B3.TIF',\n",
    "    '_SR_B4.TIF',\n",
    "    '_SR_B5.TIF',\n",
    "]"
   ]
  },
  {
   "cell_type": "code",
   "execution_count": 134,
   "id": "321f1f1c",
   "metadata": {
    "scrolled": true
   },
   "outputs": [],
   "source": [
    "X, y = [], []\n",
    "for f in landsat_raster_file_list:\n",
    "    if check_wrong_files(f): continue \n",
    "    raster_batch = []\n",
    "    for band in bands:\n",
    "        raster = f\"{landsat_raster_folder}/clip/{f}/{f}{band}\"\n",
    "        raster_batch.append(raster)\n",
    "    year = match_landsat_to_landcover(f)\n",
    "    landcover_path = f'{landcover_base_path}/DUSAF_MCM_mapped_{year}.tif'\n",
    "    raster_batch.append(landcover_path)\n",
    "    \n",
    "    batch_X, batch_y = extract_random_patches(raster_batch,17)\n",
    "    X.append(batch_X)\n",
    "    y.append(batch_y)"
   ]
  },
  {
   "cell_type": "code",
   "execution_count": 135,
   "id": "a4851fd0",
   "metadata": {},
   "outputs": [],
   "source": [
    "X_array = np.concatenate(X, axis=0)\n",
    "y_array = np.concatenate(y, axis=0)"
   ]
  },
  {
   "cell_type": "code",
   "execution_count": 139,
   "id": "25de4a6a",
   "metadata": {},
   "outputs": [
    {
     "name": "stdout",
     "output_type": "stream",
     "text": [
      "Patch shape: (17000, 7, 17, 17)\n"
     ]
    }
   ],
   "source": [
    "print(f\"Patch shape: {X_array.shape}\")  "
   ]
  },
  {
   "cell_type": "code",
   "execution_count": 140,
   "id": "89468c71",
   "metadata": {},
   "outputs": [],
   "source": [
    "np.save(\"train_patches_17.npy\", X_array)\n",
    "np.save(\"target_patches_17.npy\", y_array)"
   ]
  },
  {
   "cell_type": "code",
   "execution_count": 161,
   "id": "68e4810c",
   "metadata": {},
   "outputs": [],
   "source": [
    "def get_prediction_array(years,patch_size):\n",
    "    raster_batches = []\n",
    "    for f in landsat_raster_file_list:\n",
    "        #print(f)\n",
    "        if check_wrong_files(f): continue \n",
    "        raster_batch = []\n",
    "        year = int(match_landsat_to_landcover(f))\n",
    "        if year in years:\n",
    "            #print(year)\n",
    "            landcover_path = f'{landcover_base_path}/DUSAF_MCM_mapped_{year}.tif'\n",
    "            for band in bands:\n",
    "                raster = f\"{landsat_raster_folder}/clip/{f}/{f}{band}\"\n",
    "                raster_batch.append(raster)\n",
    "            raster_batch.append(landcover_path)\n",
    "            raster_batches.append(raster_batch)\n",
    "    print(raster_batches)\n",
    "    return create_prediction_array(raster_batches,patch_size)"
   ]
  },
  {
   "cell_type": "code",
   "execution_count": 164,
   "id": "037bdb5a",
   "metadata": {},
   "outputs": [
    {
     "name": "stdout",
     "output_type": "stream",
     "text": [
      "[['/home/user/ODC_harmonia/Landsat/Milan/data/clip/LC08_L2SP_194028_20220725_20220802_02_T1/LC08_L2SP_194028_20220725_20220802_02_T1_uhi.tif', '/home/user/ODC_harmonia/Landsat/Milan/data/clip/LC08_L2SP_194028_20220725_20220802_02_T1/LC08_L2SP_194028_20220725_20220802_02_T1_LST.TIF', '/home/user/ODC_harmonia/Landsat/Milan/data/clip/LC08_L2SP_194028_20220725_20220802_02_T1/LC08_L2SP_194028_20220725_20220802_02_T1_NDVI.TIF', '/home/user/ODC_harmonia/Landsat/Milan/data/clip/LC08_L2SP_194028_20220725_20220802_02_T1/LC08_L2SP_194028_20220725_20220802_02_T1_SR_B2.TIF', '/home/user/ODC_harmonia/Landsat/Milan/data/clip/LC08_L2SP_194028_20220725_20220802_02_T1/LC08_L2SP_194028_20220725_20220802_02_T1_SR_B3.TIF', '/home/user/ODC_harmonia/Landsat/Milan/data/clip/LC08_L2SP_194028_20220725_20220802_02_T1/LC08_L2SP_194028_20220725_20220802_02_T1_SR_B4.TIF', '/home/user/ODC_harmonia/Landsat/Milan/data/clip/LC08_L2SP_194028_20220725_20220802_02_T1/LC08_L2SP_194028_20220725_20220802_02_T1_SR_B5.TIF', 'data/landcover/DUSAF_MCM_mapped_2021.tif'], ['/home/user/ODC_harmonia/Landsat/Milan/data/clip/LC08_L2SP_194028_20220709_20220721_02_T1/LC08_L2SP_194028_20220709_20220721_02_T1_uhi.tif', '/home/user/ODC_harmonia/Landsat/Milan/data/clip/LC08_L2SP_194028_20220709_20220721_02_T1/LC08_L2SP_194028_20220709_20220721_02_T1_LST.TIF', '/home/user/ODC_harmonia/Landsat/Milan/data/clip/LC08_L2SP_194028_20220709_20220721_02_T1/LC08_L2SP_194028_20220709_20220721_02_T1_NDVI.TIF', '/home/user/ODC_harmonia/Landsat/Milan/data/clip/LC08_L2SP_194028_20220709_20220721_02_T1/LC08_L2SP_194028_20220709_20220721_02_T1_SR_B2.TIF', '/home/user/ODC_harmonia/Landsat/Milan/data/clip/LC08_L2SP_194028_20220709_20220721_02_T1/LC08_L2SP_194028_20220709_20220721_02_T1_SR_B3.TIF', '/home/user/ODC_harmonia/Landsat/Milan/data/clip/LC08_L2SP_194028_20220709_20220721_02_T1/LC08_L2SP_194028_20220709_20220721_02_T1_SR_B4.TIF', '/home/user/ODC_harmonia/Landsat/Milan/data/clip/LC08_L2SP_194028_20220709_20220721_02_T1/LC08_L2SP_194028_20220709_20220721_02_T1_SR_B5.TIF', 'data/landcover/DUSAF_MCM_mapped_2021.tif'], ['/home/user/ODC_harmonia/Landsat/Milan/data/clip/LC08_L2SP_194028_20210706_20210713_02_T1/LC08_L2SP_194028_20210706_20210713_02_T1_uhi.tif', '/home/user/ODC_harmonia/Landsat/Milan/data/clip/LC08_L2SP_194028_20210706_20210713_02_T1/LC08_L2SP_194028_20210706_20210713_02_T1_LST.TIF', '/home/user/ODC_harmonia/Landsat/Milan/data/clip/LC08_L2SP_194028_20210706_20210713_02_T1/LC08_L2SP_194028_20210706_20210713_02_T1_NDVI.TIF', '/home/user/ODC_harmonia/Landsat/Milan/data/clip/LC08_L2SP_194028_20210706_20210713_02_T1/LC08_L2SP_194028_20210706_20210713_02_T1_SR_B2.TIF', '/home/user/ODC_harmonia/Landsat/Milan/data/clip/LC08_L2SP_194028_20210706_20210713_02_T1/LC08_L2SP_194028_20210706_20210713_02_T1_SR_B3.TIF', '/home/user/ODC_harmonia/Landsat/Milan/data/clip/LC08_L2SP_194028_20210706_20210713_02_T1/LC08_L2SP_194028_20210706_20210713_02_T1_SR_B4.TIF', '/home/user/ODC_harmonia/Landsat/Milan/data/clip/LC08_L2SP_194028_20210706_20210713_02_T1/LC08_L2SP_194028_20210706_20210713_02_T1_SR_B5.TIF', 'data/landcover/DUSAF_MCM_mapped_2021.tif'], ['/home/user/ODC_harmonia/Landsat/Milan/data/clip/LC08_L2SP_194028_20200820_20200905_02_T1/LC08_L2SP_194028_20200820_20200905_02_T1_uhi.tif', '/home/user/ODC_harmonia/Landsat/Milan/data/clip/LC08_L2SP_194028_20200820_20200905_02_T1/LC08_L2SP_194028_20200820_20200905_02_T1_LST.TIF', '/home/user/ODC_harmonia/Landsat/Milan/data/clip/LC08_L2SP_194028_20200820_20200905_02_T1/LC08_L2SP_194028_20200820_20200905_02_T1_NDVI.TIF', '/home/user/ODC_harmonia/Landsat/Milan/data/clip/LC08_L2SP_194028_20200820_20200905_02_T1/LC08_L2SP_194028_20200820_20200905_02_T1_SR_B2.TIF', '/home/user/ODC_harmonia/Landsat/Milan/data/clip/LC08_L2SP_194028_20200820_20200905_02_T1/LC08_L2SP_194028_20200820_20200905_02_T1_SR_B3.TIF', '/home/user/ODC_harmonia/Landsat/Milan/data/clip/LC08_L2SP_194028_20200820_20200905_02_T1/LC08_L2SP_194028_20200820_20200905_02_T1_SR_B4.TIF', '/home/user/ODC_harmonia/Landsat/Milan/data/clip/LC08_L2SP_194028_20200820_20200905_02_T1/LC08_L2SP_194028_20200820_20200905_02_T1_SR_B5.TIF', 'data/landcover/DUSAF_MCM_mapped_2021.tif'], ['/home/user/ODC_harmonia/Landsat/Milan/data/clip/LC08_L2SP_194028_20220810_20220818_02_T1/LC08_L2SP_194028_20220810_20220818_02_T1_uhi.tif', '/home/user/ODC_harmonia/Landsat/Milan/data/clip/LC08_L2SP_194028_20220810_20220818_02_T1/LC08_L2SP_194028_20220810_20220818_02_T1_LST.TIF', '/home/user/ODC_harmonia/Landsat/Milan/data/clip/LC08_L2SP_194028_20220810_20220818_02_T1/LC08_L2SP_194028_20220810_20220818_02_T1_NDVI.TIF', '/home/user/ODC_harmonia/Landsat/Milan/data/clip/LC08_L2SP_194028_20220810_20220818_02_T1/LC08_L2SP_194028_20220810_20220818_02_T1_SR_B2.TIF', '/home/user/ODC_harmonia/Landsat/Milan/data/clip/LC08_L2SP_194028_20220810_20220818_02_T1/LC08_L2SP_194028_20220810_20220818_02_T1_SR_B3.TIF', '/home/user/ODC_harmonia/Landsat/Milan/data/clip/LC08_L2SP_194028_20220810_20220818_02_T1/LC08_L2SP_194028_20220810_20220818_02_T1_SR_B4.TIF', '/home/user/ODC_harmonia/Landsat/Milan/data/clip/LC08_L2SP_194028_20220810_20220818_02_T1/LC08_L2SP_194028_20220810_20220818_02_T1_SR_B5.TIF', 'data/landcover/DUSAF_MCM_mapped_2021.tif'], ['/home/user/ODC_harmonia/Landsat/Milan/data/clip/LC08_L2SP_194028_20210722_20210729_02_T1/LC08_L2SP_194028_20210722_20210729_02_T1_uhi.tif', '/home/user/ODC_harmonia/Landsat/Milan/data/clip/LC08_L2SP_194028_20210722_20210729_02_T1/LC08_L2SP_194028_20210722_20210729_02_T1_LST.TIF', '/home/user/ODC_harmonia/Landsat/Milan/data/clip/LC08_L2SP_194028_20210722_20210729_02_T1/LC08_L2SP_194028_20210722_20210729_02_T1_NDVI.TIF', '/home/user/ODC_harmonia/Landsat/Milan/data/clip/LC08_L2SP_194028_20210722_20210729_02_T1/LC08_L2SP_194028_20210722_20210729_02_T1_SR_B2.TIF', '/home/user/ODC_harmonia/Landsat/Milan/data/clip/LC08_L2SP_194028_20210722_20210729_02_T1/LC08_L2SP_194028_20210722_20210729_02_T1_SR_B3.TIF', '/home/user/ODC_harmonia/Landsat/Milan/data/clip/LC08_L2SP_194028_20210722_20210729_02_T1/LC08_L2SP_194028_20210722_20210729_02_T1_SR_B4.TIF', '/home/user/ODC_harmonia/Landsat/Milan/data/clip/LC08_L2SP_194028_20210722_20210729_02_T1/LC08_L2SP_194028_20210722_20210729_02_T1_SR_B5.TIF', 'data/landcover/DUSAF_MCM_mapped_2021.tif'], ['/home/user/ODC_harmonia/Landsat/Milan/data/clip/LC08_L2SP_194028_20200719_20200911_02_T1/LC08_L2SP_194028_20200719_20200911_02_T1_uhi.tif', '/home/user/ODC_harmonia/Landsat/Milan/data/clip/LC08_L2SP_194028_20200719_20200911_02_T1/LC08_L2SP_194028_20200719_20200911_02_T1_LST.TIF', '/home/user/ODC_harmonia/Landsat/Milan/data/clip/LC08_L2SP_194028_20200719_20200911_02_T1/LC08_L2SP_194028_20200719_20200911_02_T1_NDVI.TIF', '/home/user/ODC_harmonia/Landsat/Milan/data/clip/LC08_L2SP_194028_20200719_20200911_02_T1/LC08_L2SP_194028_20200719_20200911_02_T1_SR_B2.TIF', '/home/user/ODC_harmonia/Landsat/Milan/data/clip/LC08_L2SP_194028_20200719_20200911_02_T1/LC08_L2SP_194028_20200719_20200911_02_T1_SR_B3.TIF', '/home/user/ODC_harmonia/Landsat/Milan/data/clip/LC08_L2SP_194028_20200719_20200911_02_T1/LC08_L2SP_194028_20200719_20200911_02_T1_SR_B4.TIF', '/home/user/ODC_harmonia/Landsat/Milan/data/clip/LC08_L2SP_194028_20200719_20200911_02_T1/LC08_L2SP_194028_20200719_20200911_02_T1_SR_B5.TIF', 'data/landcover/DUSAF_MCM_mapped_2021.tif']]\n"
     ]
    }
   ],
   "source": [
    "patch_size = 17\n",
    "batch_X, batch_y = get_prediction_array([2021,2022],patch_size)"
   ]
  },
  {
   "cell_type": "code",
   "execution_count": 166,
   "id": "e4e5bf97",
   "metadata": {},
   "outputs": [
    {
     "data": {
      "text/plain": [
       "array([[       nan, 0.26803535,        nan,        nan,        nan,\n",
       "               nan,        nan],\n",
       "       [       nan, 0.27159673,        nan,        nan,        nan,\n",
       "               nan,        nan],\n",
       "       [       nan, 0.29865497,        nan,        nan,        nan,\n",
       "               nan,        nan],\n",
       "       [       nan, 0.31776816,        nan,        nan,        nan,\n",
       "               nan,        nan],\n",
       "       [       nan, 0.2703447 ,        nan,        nan,        nan,\n",
       "               nan,        nan],\n",
       "       [       nan, 0.31772885,        nan,        nan,        nan,\n",
       "               nan,        nan],\n",
       "       [       nan, 0.32968596,        nan,        nan,        nan,\n",
       "               nan,        nan]], dtype=float32)"
      ]
     },
     "execution_count": 166,
     "metadata": {},
     "output_type": "execute_result"
    }
   ],
   "source": [
    "batch_X"
   ]
  },
  {
   "cell_type": "code",
   "execution_count": 163,
   "id": "58c02a93",
   "metadata": {},
   "outputs": [],
   "source": [
    "def create_prediction_array(raster_batches, patch_size=33):\n",
    "    \"\"\"\n",
    "    Extracts average pixel values across multiple rasters for prediction.\n",
    "\n",
    "    Args:\n",
    "        raster_batches (list): List of lists of file paths to raster images.\n",
    "        patch_size (int): Size of the square patches (not needed now, but could be kept for compatibility).\n",
    "\n",
    "    Returns:\n",
    "        tuple: (X, y) where:\n",
    "            - X is an array of shape (num_samples, num_bands-1) for the averaged raster patches\n",
    "            - y is an array of shape (num_samples, 1), containing average center pixel values\n",
    "    \"\"\"\n",
    "    # Initialize variables to accumulate the sum and count for each raster batch\n",
    "    total_X_patches = []\n",
    "    total_y_centers = []\n",
    "\n",
    "    for raster_paths in raster_batches:\n",
    "        rasters = []\n",
    "        nodata_masks = []\n",
    "\n",
    "        # Read all rasters\n",
    "        for path in raster_paths:\n",
    "            with rasterio.open(path) as src:\n",
    "                img = src.read(1).astype(np.float32)  # Convert to float32\n",
    "                nodata_value = src.nodata if src.nodata is not None else np.nan  # Handle missing nodata\n",
    "                img[img == nodata_value] = np.nan  # Mask nodata values\n",
    "                rasters.append(img)\n",
    "                nodata_masks.append(np.isnan(img))  # Store nodata mask\n",
    "\n",
    "        # Stack rasters into a multi-band array (bands, height, width)\n",
    "        raster_stack = np.stack(rasters, axis=0)\n",
    "\n",
    "        # UHI is the first band\n",
    "        uhi_band = raster_stack[0]  \n",
    "        feature_bands = raster_stack[1:]  # All other bands\n",
    "\n",
    "        height, width = raster_stack.shape[1], raster_stack.shape[2]\n",
    "\n",
    "        # Calculate the average for each raster\n",
    "        X_patches = np.mean(feature_bands, axis=(1, 2))  # Average over the height and width dimensions\n",
    "        center_value = np.nanmean(uhi_band)  # Average the center values (handle NaNs)\n",
    "\n",
    "        # Append the averaged result for this batch\n",
    "        total_X_patches.append(X_patches)\n",
    "        total_y_centers.append(center_value)\n",
    "\n",
    "    # Combine all batches into final arrays\n",
    "    avg_X_patches = np.array(total_X_patches)\n",
    "    avg_y_centers = np.array(total_y_centers).reshape(-1, 1)\n",
    "\n",
    "    return avg_X_patches, avg_y_centers  # Return averaged values across all raster batches\n"
   ]
  }
 ],
 "metadata": {
  "kernelspec": {
   "display_name": "odc_env",
   "language": "python",
   "name": "python3"
  },
  "language_info": {
   "codemirror_mode": {
    "name": "ipython",
    "version": 3
   },
   "file_extension": ".py",
   "mimetype": "text/x-python",
   "name": "python",
   "nbconvert_exporter": "python",
   "pygments_lexer": "ipython3",
   "version": "3.8.13"
  }
 },
 "nbformat": 4,
 "nbformat_minor": 5
}
